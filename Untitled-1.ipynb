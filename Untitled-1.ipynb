{
 "cells": [
  {
   "cell_type": "code",
   "execution_count": 5,
   "metadata": {},
   "outputs": [
    {
     "name": "stdout",
     "output_type": "stream",
     "text": [
      "{\"device\":\"cuda\"}\n"
     ]
    }
   ],
   "source": [
    "import requests\n",
    "\n",
    "url = 'http://34.125.154.167:8000/api/whisper'\n",
    "files = {'files': ('filename.mp3', open('audio.mp3', 'rb'), 'audio/mpeg')}\n",
    "\n",
    "# If you need to send JSON data along with files, use the `data` parameter for the JSON part:\n",
    "data = {'someKey': 'someValue'}  # Example JSON data\n",
    "response = requests.post(url, files=files)\n",
    "\n"
   ]
  },
  {
   "cell_type": "code",
   "execution_count": null,
   "metadata": {},
   "outputs": [],
   "source": [
    "2.53"
   ]
  }
 ],
 "metadata": {
  "kernelspec": {
   "display_name": "mywacc",
   "language": "python",
   "name": "python3"
  },
  "language_info": {
   "codemirror_mode": {
    "name": "ipython",
    "version": 3
   },
   "file_extension": ".py",
   "mimetype": "text/x-python",
   "name": "python",
   "nbconvert_exporter": "python",
   "pygments_lexer": "ipython3",
   "version": "3.9.16"
  }
 },
 "nbformat": 4,
 "nbformat_minor": 2
}
