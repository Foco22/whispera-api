{
 "cells": [
  {
   "cell_type": "code",
   "execution_count": 3,
   "metadata": {},
   "outputs": [],
   "source": [
    "import requests\n",
    "import base64\n",
    "import json\n",
    "import base64\n",
    "import os\n",
    "\n",
    "\n",
    "audio_path = \"2.m4a\"  # Asegúrate de cambiar esto por la ruta de tu archivo\n",
    "with open(audio_path, 'rb') as file:\n",
    "    input_binary = file.read()\n",
    "\n",
    "encoded_audio = base64.b64encode(input_binary).decode('utf-8')\n",
    "\n",
    "url = 'http://localhost:8000/api/whisper/'\n",
    "data = {\n",
    "\"model\": 'base',  # Example base64 encoding\n",
    "\"input_binary\": encoded_audio\n",
    "}\n",
    "response = requests.post(url, json=data)"
   ]
  },
  {
   "cell_type": "code",
   "execution_count": 11,
   "metadata": {},
   "outputs": [
    {
     "name": "stderr",
     "output_type": "stream",
     "text": [
      "/home/francisco/anaconda3/envs/mywacc/lib/python3.9/site-packages/whisper/transcribe.py:115: UserWarning: FP16 is not supported on CPU; using FP32 instead\n",
      "  warnings.warn(\"FP16 is not supported on CPU; using FP32 instead\")\n"
     ]
    }
   ],
   "source": [
    "import whisper\n",
    "import whisper\n",
    "import tempfile\n",
    "import os\n",
    "\n",
    "device = \"cuda\" if False else \"cpu\"\n",
    "model = whisper.load_model('base', device=device)\n",
    "audio_bytes = base64.b64decode(encoded_audio)\n",
    "\n",
    "with tempfile.NamedTemporaryFile(delete=False, suffix='.mp3') as tmp_audio_file:\n",
    "    tmp_audio_file.write(audio_bytes)\n",
    "    tmp_audio_file_path = tmp_audio_file.name\n",
    "\n",
    "result = model.transcribe(tmp_audio_file_path)\n",
    "\n",
    "os.remove(tmp_audio_file_path)\n"
   ]
  },
  {
   "cell_type": "code",
   "execution_count": 13,
   "metadata": {},
   "outputs": [
    {
     "data": {
      "text/plain": [
       "'/tmp/tmphhc0uhgj.mp3'"
      ]
     },
     "execution_count": 13,
     "metadata": {},
     "output_type": "execute_result"
    }
   ],
   "source": [
    "tmp_audio_file_path"
   ]
  },
  {
   "cell_type": "code",
   "execution_count": 2,
   "metadata": {},
   "outputs": [
    {
     "name": "stdout",
     "output_type": "stream",
     "text": [
      "{\"results\":[{\"duration\":140.85708379745483,\"filename\":\"filename.mp3\",\"text\":\" Y este verano que sergará en cambio, que es el tigurón, o sea, o habla con tu familia, con tus amigos, con tu círculo, avisas, ¡hey! Vamos a empezar el cambio y ya, esto va en serio. ¿Y qué cosas haces? ¿Qué cosas aplicas? Pues una cosa estaba bien, la teoría, pero que fue cuando lo hablé con mi círculo de confianza, que fue el principio de verano? Sí, pero la otra fue cuando me fui a Estados Unidos de vacaciones y conocía a Iliatopuria, conocía Iliatopuria y vi a su círculo de confianza y como en todo momento le hacían creer que era el mejor, incluso tiene una canción, incluso es que cualquier cosa en todo momento ese apoyo incondicional y hablar con él, hablar con él y ver la mentalía que él tenía. Yo salí de ese viaje siendo un ferrán y volví siendo otro. O sea, sí, que era un clickbait pero no, o sea Iliatopuria te ha cambiado la mentalidad, ha cambiado la vida en ese sentido. Ha ayudado mucho en el proceso de cambiarla. ¿Cómo lo conoces? ¿Cómo llegas a poder estar con él? ¿Lo hablaste por Instagram o cómo? Yo me lanzé un triple, le escribió un mensaje por Instagram y el emplace de conocerte, las fechas del combate voy a estar por Miami que está 2 horas y media o 2 horas o un poco menos. Sería posible unas entradas y en el juego del vaso, pidiendo entradas. Sí, yo. Es que claro, yo nunca había estado en un esto de la UFC y yo no se había como acceder a ellos. Te gustaba por eso la SMA o es más el perfil de topuria que era principio te atrajo. En ese entonces no sabía muy bien que en la topuria, sabía que había un español que estaba por el camino de triunfo a lo que estaba ahí. Pero no lo conocía mucho. Mis amigos sí, que fueron un poco los que me pusieron en contexto y yo tenía la ilusión de ir a un combate UFC porque era algo que me iba a impresionar mucho. Que de hecho me impresionó mucho. Y eso, el escribi me contestó. Claro, Ferran, sin problema te paso el contacto de mi ahí presentante y lo que necesites, vamos yo encantadísimo. Y a partir de ahí fue como cuando tú sabes cuando conectas con una persona que tiene un feeling diferente que sabes que vamos, que te vas a ayudar súper bien con él. Pues es la que tuve yo con ilia y de hecho así fue porque me invito a su hotel, a ver el calentamiento antes del combate incluso al vestuario cuando ya estaba en el estadio del combate que pues ahí son momentos de tensión. Muy bien, muy, muy, muy bien. Claro, es una mentalidad cuando yo también estuvo aquí de ganadores. A pierda o ganes, es siento ganador. Lo ves imposibles, yo de realmente cuando hablabas con él es que parece que en su mente no existe que pueda perder. No, no, no, parece que es imposible. Sí es, así es. Y eso es algo que, porque lo que a mi impacto mucho es la primera vez que hable yo con él, encantado tal cual luego se fue a entrenar y cuando terminó ya pudo hablar un poco más con él y qué tal, como lo ves para esta noche tal lo tipo y yo, yo del primer ram no pasa. Quizás sí. Y yo, fah, yo quiero ser como tú. Yo quiero ser como tú y conversaciones internas yo con mi cabeza, con mi cabeza de quiero ser mejor ferran, quiero ser como ilgato, puyo quiero ser, vamos indestructible. Pues al final te lo acabas creyendo, te lo acabas creyendo porque algo que me dice mi psicólogo mucho que yo tengo un don, que soy, yo soy muy sensible. Entonces yo tengo el poder de congestionarme a mí mismo y hacerme creer con mucha facilidad las cosas. Tanto para bien como para malo. Claro, la sensibilidad es una bendición normal, exáctama, exáctama. Exáctama. Exáctama. Exáctama. Exáctama. De hecho, es porque soy muy sensible. Entonces pues ahora he convertido esa sensibilidad de malo a muy bueno. Y yo tengo, a día de hoy tengo algún momento que se me pasan a todos y nos pasan un momento por la cabeza de cosas malas. Pero en el momento como dijo Iliá una vez, en el momento si me pasa algún pensamiento malo, lo contraeré esto con tres buenos. Qué bueno. Y eso sí o sea severano, esta mentalidad destructora. Sí, es que no sé cómo pero sí este verano ha pasado dos. Estras son risas y todo porque me encantan el ferrán de ahora. Porque me encantó, sabes, me el ferrán que estoy construyendo. Que tú al ferrán que eres ahora, si tú te encuentras con el ferrán de hace dos años, le hubieras pegado un par de ofetones y ver si he dicho que es un barbillo. Con una mules sobrados. Con una mules sobrados. Una de expulsión. Una de los ejércitos. Una de los ejércitos. Una de los ejércitos. De nuevo el vas por aquí. Lo hubieras dicho cuatro cositas, ¿no? Sí. Lo hubiera hecho, es que la que te espera. Lo demás, pero bueno es que si no pasas eso tampoco sabes lo otro. O sea yo creo que está bien que hayas pasado una penuría porque eso te ayuda a saber, yo no quiero volver a eso. Exacto, por eso yo digo que el año pasado ha sido el mejor año de mi vida porque yo sé lo que es tocar fondo y no quiero volver a tocarlo. Y entonces yo cada día me levanto por la mañana y pienso que puedo hacer para ser mejor que ayer y alejarme lo máximo posible de lo que lo que he pasado. Y en mi cabeza está todo el rato, maquinando de cómo puedo mejorar o cómo puedo hacer esto o cómo puedo hacer a que yo busca esto porque mira, más pasado que esto me puedo hacer ayudar a mejorar la recuperación o todo. Maquinando todo para lo mejor y alargar mi carrera no más en posible. O sea cuando vuelves de Miami estás ya en un modo de yo, o sea quieres forzarme para ser el puto amo. Constante. Yo coge a mi deporte, le digo vamos a hacer doble sesiones todos los días. Hablé con mi nutrida en esta de ánmela dieta, vamos, tengo que perder 3 kilos y ponerme como un bicho pero con 3 kilómenos y hablaba con mi fisio y vamos a hacer dos horas de tratamiento todos los días. Todo multiplicado. No era negociación, ¿sabes? No era negociación. No era si, si o si, si o si. Estás machaca o usted verano una puta locura. Sí, sí, sí, sí. Más que en tu vida. Sí. Yo mira que me gustaba entrenar y me gustaba la el dibujo de prueba físico fuera del fútbol porque no te da tiempo trabajar todo pero lo que es, yo este verano vamos. La locura. Muy, muy, muy fuerte para, pues, porque también yo creo que eso te ayuda a construir, mentalmente ser más fuerte tú. Porque, pues, sufrir en el gimnasio es algo, es una sensación que tace fuerte. Es que tace fuerte porque tú estás en el gimnasio y tienes que combatir contra tu mente porque a lo mejor a una serie de cardio no llegas y no llegas y te cantias segundos, yo lo digo es un dos más duros de esto pero es por mi bien, es por mi bien, quieres el mejor, pues tienes que sufrir como el mejor. Yo hago hace cinco más y luego ya que es ya que andar roto, es actual. Exacto. Exacto. Aces cinco más y esto. Eso me pasa que muchas veces vacilo a mi a mi prepa de cuando termino. Ya, ya hemos terminado. Y entonces la siguiente, el siguiente bloque es la que digo yo. Pero hasta el minuto uno. Pues, tú creo que se ha un tío de Estados Unidos, se llama Walter Goggins. Me suena mucho. Uno que es un tío que había estado si no me equivo con los siles o en los marines que estaba, estaba gordo y ahora que pesaba que llegó a pesar 134 momentos más depresivos y lo cuenta. Y ahora es una bestia pero que tiene una mentalidad pero ya no sé si te burrón o me galotón porque se hace unos entrenos que la gente no puede no puede terminarlos, no? No, pero tío, es, se tú puta mejor versión cada puto minuto cada minuto. Sí, sí. Es que la gente se lo toma como mitos esto. No sé la mejor versión de tu, como que la típica frase con la música de la motivacional de fom, pero no tío, te lo tienes que creer. Es que es un mensaje, pues, es real. Exacto, tío, yo... Vamos, yo cada día me repito lo que quiero ser y lo que, y lo que necesito en mi cabeza, por real final, es que te lo tienes que creer. Sí, pero cuando te mantengas un realismo. Exacto. Que eso es lo que a veces hay gente que se le va a un poco a la pinza y suena cosas que no van a poder conseguir, dentro de un realismo, ¿no? Exacto. Sí, sí, pero creérselo, soñar, soñar. Soñar, soñar que puedes lograrlo, soñar que no tienes techo que puedes conseguir cualquier cosa, sólo tienes que tener la disciplina y la constancia necesarias. Y cómo te has preparado mentalmente para lo malo? Entonces, porque ahora estamos hablando de que te has preparado para mejorar un montón, pero tú sabes que en la vida, aunque te prepare, hay momentos en los que las cosas no salen. ¿Cómo te has preparado ante, por ejemplo, lo que tú decías? No marcar un gol en partido o hacer un mal partido. ¿Cómo te has preparado para ello? ¿Para qué no te importa? Me he preparado a base de tener las cosas de cara, de el éxito, de ser consciente y ser capaz de haber metido un doblete con la selección, o haber metido con el barza durante tres partidos seguidos y no estar en un momento fórico de mi vida. Simplemente, yo me acuerdo el día que metí el doblete contra la selección, coger el móvil y lo primero que hacer, mandar un mensaje a mi prepa de mañana entramos a las diez y lo siguiente es a mi amigo, a mi amigo, mandarle en dos horas estoy en casa, vamos a jugar a la play. Por eso al final, tienes que badirte del foco mediático, no he metido dos goles por haberme lo que dicen de mí, en Twitter, lo que ponen de mí, lo que dice la prensa de mí, lo que pone cualquiera de mí. ¿Qué va? Al otra vez yo, el móvil no lo cojo, feliciten o no me feliciten, hago lo que me apeté de hacer, me apete dejo a la pepe, me pongo, pero siempre sabiendo que al día siente tengo que entrenar con mi prepa, tengo que tal, porque no es casualidad que yo me he metido dos goles, mejor no soy el jugador que más talento tiene, pero si el que más trabajo quiere hacer para ser, para batir a los que tienen talento. Entonces, esto creo que es algo importante para, para combatir cuando las cosas vienen, no de cara. Si llegara un punto de medio, ¿no? Exacto, estar siempre más o menos estable mentalmente emocionalmente. No depender de lo que haya hecho o no haya hecho en el campo. Simplemente saber que has hecho todo lo posible, tanto con tu prepa, en el campo que has dado lo máximo de ti, pues soy de dentro de tres días, tienes otra oportunidad. Ya está. Te agradecer las cosas, no sale. Y no pasa, y no se nos hacía sin el mundo. Y sobre todo, controlar lo que depende de ti, lo que depende de ti, lo que no depende de ti, no es tanto tus manos, mientras por éste me sale por aquella, sea ya está. Centrarme en lo que está en mis manos. Que es algo fuerte lo que has hecho, siendo tan sensible. Totalmente. Si fuera una persona más, bueno, me has insensibilizada, más fría, pues a la mejor, bueno, tampoco es tan difícil pasar de lo que dice la gente, pero en tu caso, eres el perfil de persona a la que le afectan las cosas. Y que piensa mucho, entiendo, que tú pensabas mucho. Yo pensaba vueltas. Muchísimas. Sí, sí, lo que pensaba, se había hecho un mal partido, lo que pensaba el entrador, se había cambiado la imagen de mí, si tal, si la prensa me estaba criticando, si mis repres, ya no me querían porque no era tan bocual, todo. Míseme pasada por la cabeza millones de cosas. Wow. Eso es un infierno. Y ahora es, pues mira, soy lo mejor, la mejor versión de mí mismo. Aquí no le guste, pues, chau, aquí le guste, pues, qué disfrute. Bueno, ya mejor versiono de ti mismo, hoy, porque mañana seas mejor, ¿no? Exacto. Voy a intentar ser mejor. Como lo decía tus padres, ¿de qué vas a crecer centímetros? Pues, ya no, pero vas a crecer en nivel. En nivel. En nivel. Al menos intentarlo. Claro. Que eso es algo bonito también, ¿sabes?\"}]}\n"
     ]
    }
   ],
   "source": [
    "import requests\n",
    "\n",
    "url = 'http://localhost:8000/api/whisper'\n",
    "files = {'files': ('filename.mp3', open('audio.mp3', 'rb'), 'audio/mpeg')}\n",
    "\n",
    "response = requests.post(url, files=files)\n",
    "\n",
    "print(response.text)\n"
   ]
  },
  {
   "cell_type": "code",
   "execution_count": null,
   "metadata": {},
   "outputs": [],
   "source": []
  }
 ],
 "metadata": {
  "kernelspec": {
   "display_name": "mywacc",
   "language": "python",
   "name": "python3"
  },
  "language_info": {
   "codemirror_mode": {
    "name": "ipython",
    "version": 3
   },
   "file_extension": ".py",
   "mimetype": "text/x-python",
   "name": "python",
   "nbconvert_exporter": "python",
   "pygments_lexer": "ipython3",
   "version": "3.9.16"
  }
 },
 "nbformat": 4,
 "nbformat_minor": 2
}
